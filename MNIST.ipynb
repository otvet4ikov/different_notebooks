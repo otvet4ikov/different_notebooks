{
  "cells": [
    {
      "cell_type": "markdown",
      "metadata": {
        "id": "view-in-github",
        "colab_type": "text"
      },
      "source": [
        "<a href=\"https://colab.research.google.com/github/otvet4ikov/castle/blob/main/MNIST.ipynb\" target=\"_parent\"><img src=\"https://colab.research.google.com/assets/colab-badge.svg\" alt=\"Open In Colab\"/></a>"
      ]
    },
    {
      "cell_type": "markdown",
      "source": [
        "<div>\n",
        "    <h1><center>Вступление</center></h1>\n",
        "</div>\n",
        "Описание датасета.\n",
        "\n",
        "Данный датасет содержит картинки рукописных цифр от 0 до 9. Размер картинки 28x28 пикселей. \n",
        "\n",
        "Тренировочный датасет содержит 60000 картинок, тестовый датасет содержит 20000 картинок. \n",
        "\n",
        "Будет сравниваться две нейронные сети. Первая - полносвязная нейронная сеть со 100 скрытыми нейронами, два линейных слоев и сигмоидной функцией активации. Вторая модифицированная сеть [LeNet](https://habr.com/ru/company/nix/blog/430524/). Так как сеть LeNet работала с размером картинок 32x32, а у нас 28x28, то я использовал на первом сверточном слое маску размером 5x5 с отступом 2.\n",
        "\n",
        "В обучении размер батча будет равен 100, для оптимизации будет использована кросс-энтропия и оптимизатор Адам\n",
        "\n"
      ],
      "metadata": {
        "id": "r1qorYV00IeK"
      }
    },
    {
      "cell_type": "markdown",
      "source": [
        "Импортируем библиотеки и создадим воспроизводимость экспериментов"
      ],
      "metadata": {
        "id": "AoR6evux35lQ"
      }
    },
    {
      "cell_type": "code",
      "execution_count": null,
      "metadata": {
        "id": "Ycenqt40dwU5"
      },
      "outputs": [],
      "source": [
        "# библиотека для создания нейронных сетей и преедобработки данных\n",
        "import torch\n",
        "import torchvision.transforms as tfs\n",
        "from torch.utils.data import DataLoader\n",
        "\n",
        "\n",
        "# библиотеки для математических операций и оценки точности\n",
        "import random\n",
        "import numpy as np\n",
        "from sklearn.metrics import accuracy_score\n",
        "\n",
        "\n",
        "# библиотека для визуализации\n",
        "import matplotlib.pyplot as plt\n",
        "\n",
        "\n",
        "# воспроизводимость экспериментов\n",
        "random.seed(0)\n",
        "np.random.seed(0)\n",
        "torch.manual_seed(0)\n",
        "torch.cuda.manual_seed(0)\n",
        "torch.backends.cudnn.deterministic = True\n",
        "\n",
        "\n",
        "import time"
      ]
    },
    {
      "cell_type": "markdown",
      "source": [
        "Создадим трансформер для преобразования картинки к тензору и нормализуем данные"
      ],
      "metadata": {
        "id": "Oaobaqh14uvO"
      }
    },
    {
      "cell_type": "code",
      "execution_count": null,
      "metadata": {
        "id": "gf2Ou1tcfx_7"
      },
      "outputs": [],
      "source": [
        "data_tfs = tfs.Compose([\n",
        "  tfs.ToTensor(),\n",
        "  tfs.Normalize((0.5), (0.5))\n",
        "])"
      ]
    },
    {
      "cell_type": "markdown",
      "source": [
        "Скачаем датасеты для обучения и проверки"
      ],
      "metadata": {
        "id": "OSPThzH35ICV"
      }
    },
    {
      "cell_type": "code",
      "execution_count": null,
      "metadata": {
        "id": "Y3rXS_-td7pm"
      },
      "outputs": [],
      "source": [
        "from torchvision.datasets import MNIST\n",
        "\n",
        "train = MNIST('./', train=True,  transform=data_tfs, download=True)\n",
        "test  = MNIST('./', train=False, transform=data_tfs, download=True)"
      ]
    },
    {
      "cell_type": "markdown",
      "source": [
        "Создадим полносвязную нейронную сеть"
      ],
      "metadata": {
        "id": "5w9pLc_no0cp"
      }
    },
    {
      "cell_type": "code",
      "execution_count": null,
      "metadata": {
        "id": "MHllHrl5gnzM"
      },
      "outputs": [],
      "source": [
        "class MNISTNet(torch.nn.Module):\n",
        "  def __init__(self, n_hidden_neurons):\n",
        "    super(MNISTNet, self).__init__()\n",
        "    self.fc1 = torch.nn.Linear(28 * 28, n_hidden_neurons)\n",
        "    self.ac1 = torch.nn.Sigmoid()\n",
        "    self.fc2 = torch.nn.Linear(n_hidden_neurons, 10) \n",
        "\n",
        "  def forward(self, x):\n",
        "    x = self.fc1(x)\n",
        "    x = self.ac1(x)\n",
        "    x = self.fc2(x)\n",
        "    return x\n",
        "\n",
        "\n",
        "mnist_net = MNISTNet(100)"
      ]
    },
    {
      "cell_type": "markdown",
      "source": [
        "Для оптимизации будем использовать кросс-энтропию и оптимизатор Адам"
      ],
      "metadata": {
        "id": "5OI2HLbmpm-p"
      }
    },
    {
      "cell_type": "code",
      "execution_count": null,
      "metadata": {
        "id": "tjP-9--fkFT7"
      },
      "outputs": [],
      "source": [
        "loss = torch.nn.CrossEntropyLoss()\n",
        "optimizer = torch.optim.Adam(mnist_net.parameters(), lr=1.0e-3)"
      ]
    },
    {
      "cell_type": "markdown",
      "source": [
        "Для загруззки данных будем использовать DataLoader с размером батча 100"
      ],
      "metadata": {
        "id": "SACo-RxXt8bc"
      }
    },
    {
      "cell_type": "code",
      "execution_count": null,
      "metadata": {
        "id": "tpVOVObdknoO"
      },
      "outputs": [],
      "source": [
        "batch_size = 100\n",
        "\n",
        "train_loader = DataLoader(train, batch_size=batch_size, drop_last=True)\n",
        "test_loader = DataLoader(test, batch_size=batch_size, drop_last=True)"
      ]
    },
    {
      "cell_type": "markdown",
      "source": [
        "Посмотрим как выглядит первый элемент выборки"
      ],
      "metadata": {
        "id": "VF9bQCzFuBoM"
      }
    },
    {
      "cell_type": "code",
      "execution_count": null,
      "metadata": {
        "colab": {
          "base_uri": "https://localhost:8080/",
          "height": 282
        },
        "id": "O8wyd6g0stDy",
        "outputId": "0c7ca99b-9857-4f74-ac4f-8450e05c1f6f"
      },
      "outputs": [
        {
          "output_type": "display_data",
          "data": {
            "text/plain": [
              "<Figure size 432x288 with 1 Axes>"
            ],
            "image/png": "[encoded data removed]"
          },
          "metadata": {
            "needs_background": "light"
          }
        },
        {
          "output_type": "execute_result",
          "data": {
            "text/plain": [
              "tensor(5)"
            ]
          },
          "metadata": {},
          "execution_count": 21
        }
      ],
      "source": [
        "plt.imshow(train.data[0])\n",
        "plt.show()\n",
        "train.targets[0]"
      ]
    },
    {
      "cell_type": "markdown",
      "source": [
        "Обучение нейросети"
      ],
      "metadata": {
        "id": "QdvorvaeuIIJ"
      }
    },
    {
      "cell_type": "code",
      "execution_count": null,
      "metadata": {
        "id": "ixVKCtkAiWGu",
        "colab": {
          "base_uri": "https://localhost:8080/"
        },
        "outputId": "731d1980-0fb8-4207-f04a-4fa74a9fa42c"
      },
      "outputs": [
        {
          "output_type": "stream",
          "name": "stdout",
          "text": [
            "Время обучения модели: 836.3776016235352\n",
            "Точность: 0.9232\n",
            "Лосс: 0.31381395\n"
          ]
        }
      ],
      "source": [
        "epochs = 100\n",
        "loss_history = []\n",
        "test_accuracy_history = []\n",
        "\n",
        "X_test = test.data\n",
        "y_test = test.targets\n",
        "\n",
        "start = time.time()\n",
        "\n",
        "\n",
        "for epoch_index in range(epochs):\n",
        "  for x_batch, y_batch in train_loader:\n",
        "    optimizer.zero_grad()\n",
        "    x_batch = x_batch.reshape(x_batch.shape[0], -1).float()\n",
        "\n",
        "    preds = mnist_net.forward(x_batch)\n",
        "    loss_value = loss(preds, y_batch)\n",
        "    loss_value.backward()\n",
        "\n",
        "    optimizer.step()\n",
        "\n",
        "  test_preds = mnist_net.forward(X_test.reshape(X_test.shape[0], -1).float())\n",
        "\n",
        "  test_loss = loss(test_preds, y_test)\n",
        "  loss_history.append(loss_value.item())\n",
        "\n",
        "  accuracy = accuracy_score(test_preds.argmax(dim=1), y_test)\n",
        "  test_accuracy_history.append(accuracy)\n",
        "\n",
        "print(\"Время обучения модели:\", time.time()-start) \n",
        "print(\"Точность:\", accuracy)\n",
        "print(\"Лосс:\", np.array(test_loss.data))"
      ]
    },
    {
      "cell_type": "markdown",
      "source": [
        "Нарисуем два графика: потерь и точности"
      ],
      "metadata": {
        "id": "uAJeKuFmbblG"
      }
    },
    {
      "cell_type": "code",
      "execution_count": null,
      "metadata": {
        "colab": {
          "base_uri": "https://localhost:8080/",
          "height": 279
        },
        "id": "A5s236xgmO04",
        "outputId": "ffe5861c-04b8-4035-e5db-49e030dbb60a"
      },
      "outputs": [
        {
          "output_type": "display_data",
          "data": {
            "text/plain": [
              "<Figure size 432x288 with 1 Axes>"
            ],
            "image/png": "[encoded data removed]"
          },
          "metadata": {
            "needs_background": "light"
          }
        }
      ],
      "source": [
        "plt.plot(loss_history)\n",
        "\n",
        "plt.xlabel('epoch number')\n",
        "plt.ylabel('loss')\n",
        "plt.show()"
      ]
    },
    {
      "cell_type": "code",
      "source": [
        "plt.plot(test_accuracy_history)\n",
        "\n",
        "plt.xlabel('epoch number')\n",
        "plt.ylabel('accuracy')\n",
        "plt.show()"
      ],
      "metadata": {
        "colab": {
          "base_uri": "https://localhost:8080/",
          "height": 279
        },
        "id": "5VFhPVENqRn-",
        "outputId": "f7369dff-cd8c-4f55-b0b8-88deae33e202"
      },
      "execution_count": null,
      "outputs": [
        {
          "output_type": "display_data",
          "data": {
            "text/plain": [
              "<Figure size 432x288 with 1 Axes>"
            ],
            "image/png": "[encoded data removed]"
          },
          "metadata": {
            "needs_background": "light"
          }
        }
      ]
    },
    {
      "cell_type": "markdown",
      "source": [
        "Теперь создадим LeNet 2.0."
      ],
      "metadata": {
        "id": "7r4poZDjbiA3"
      }
    },
    {
      "cell_type": "code",
      "execution_count": null,
      "metadata": {
        "id": "ouZySxMATjCD"
      },
      "outputs": [],
      "source": [
        "class LeNet(torch.nn.Module):\n",
        "    def __init__(self):\n",
        "        super(LeNet, self).__init__()\n",
        "        \n",
        "        self.conv1 = torch.nn.Conv2d(\n",
        "            in_channels=1, out_channels=6, kernel_size=5, padding=2)\n",
        "        self.act1  = torch.nn.Tanh()\n",
        "        self.pool1 = torch.nn.AvgPool2d(kernel_size=2, stride=2)\n",
        "       \n",
        "        self.conv2 = torch.nn.Conv2d(\n",
        "            in_channels=6, out_channels=16, kernel_size=5, padding=0)\n",
        "        self.act2  = torch.nn.Tanh()\n",
        "        self.pool2 = torch.nn.AvgPool2d(kernel_size=2, stride=2)\n",
        "        \n",
        "        self.fc1   = torch.nn.Linear(5 * 5 * 16, 120)\n",
        "        self.act3  = torch.nn.Tanh()\n",
        "        \n",
        "        self.fc2   = torch.nn.Linear(120, 84)\n",
        "        self.act4  = torch.nn.Tanh()\n",
        "        \n",
        "        self.fc3   = torch.nn.Linear(84, 10)\n",
        "    \n",
        "    def forward(self, x):\n",
        "        \n",
        "        x = self.conv1(x)\n",
        "        x = self.act1(x)\n",
        "        x = self.pool1(x)\n",
        "        \n",
        "        x = self.conv2(x)\n",
        "        x = self.act2(x)\n",
        "        x = self.pool2(x)\n",
        "        \n",
        "        x = x.view(x.size(0), x.size(1) * x.size(2) * x.size(3))\n",
        "\n",
        "        x = self.fc1(x)\n",
        "        x = self.act3(x)\n",
        "        x = self.fc2(x)\n",
        "        x = self.act4(x)\n",
        "        x = self.fc3(x)\n",
        "        \n",
        "        return x"
      ]
    },
    {
      "cell_type": "markdown",
      "source": [
        "Как и в полносвязной сети реализуем обучение и визуализацию."
      ],
      "metadata": {
        "id": "OQO7uuHobowp"
      }
    },
    {
      "cell_type": "code",
      "execution_count": null,
      "metadata": {
        "colab": {
          "base_uri": "https://localhost:8080/"
        },
        "id": "n4t6hndy2paK",
        "outputId": "fd4b4432-ba70-4061-a9b7-ab893542dac1"
      },
      "outputs": [
        {
          "output_type": "stream",
          "name": "stdout",
          "text": [
            "Время обучения модели: 886.9841952323914\n",
            "Точность: 0.9868\n",
            "Лосс: 0.31381395\n"
          ]
        }
      ],
      "source": [
        "lenet = LeNet()\n",
        "\n",
        "\n",
        "loss = torch.nn.CrossEntropyLoss()\n",
        "optimizer = torch.optim.Adam(lenet.parameters(), lr=1.0e-3)\n",
        "\n",
        "\n",
        "X_train = train.data\n",
        "y_train = train.targets\n",
        "X_test = test.data\n",
        "y_test = test.targets\n",
        "X_train = X_train.unsqueeze(1).float()\n",
        "X_test = X_test.unsqueeze(1).float()\n",
        "\n",
        "batch_size = 100\n",
        "\n",
        "test_accuracy_history = []\n",
        "test_loss_history = []\n",
        "\n",
        "\n",
        "\n",
        "start = time.time()\n",
        "\n",
        "for epoch in range(100):\n",
        "    order = np.random.permutation(len(X_train))\n",
        "    for start_index in range(0, len(X_train), batch_size):\n",
        "        optimizer.zero_grad()\n",
        "        \n",
        "        batch_indexes = order[start_index:start_index+batch_size]\n",
        "        \n",
        "        X_batch = X_train[batch_indexes]\n",
        "        y_batch = y_train[batch_indexes]\n",
        "        \n",
        "        preds = lenet.forward(X_batch) \n",
        "        \n",
        "        loss_value = loss(preds, y_batch)\n",
        "        loss_value.backward()\n",
        "        \n",
        "        optimizer.step()\n",
        "        \n",
        "    test_preds = lenet.forward(X_test)\n",
        "    test_loss_history.append(loss(test_preds, y_test).data)\n",
        "    \n",
        "    accuracy = accuracy_score(test_preds.argmax(dim=1), y_test)\n",
        "    test_accuracy_history.append(accuracy)\n",
        "\n",
        "\n",
        "print(\"Время обучения модели:\", time.time()-start) \n",
        "print(\"Точность:\", accuracy)\n",
        "print(\"Лосс:\", np.array(test_loss.data))"
      ]
    },
    {
      "cell_type": "code",
      "source": [
        "plt.plot(test_loss_history)\n",
        "\n",
        "plt.xlabel('epoch number')\n",
        "plt.ylabel('loss')\n",
        "plt.show()"
      ],
      "metadata": {
        "colab": {
          "base_uri": "https://localhost:8080/",
          "height": 279
        },
        "id": "9wZFTfKvNnOT",
        "outputId": "515979ce-f084-4953-f065-6ac996a4668f"
      },
      "execution_count": null,
      "outputs": [
        {
          "output_type": "display_data",
          "data": {
            "text/plain": [
              "<Figure size 432x288 with 1 Axes>"
            ],
            "image/png": "[encoded data removed]"
          },
          "metadata": {
            "needs_background": "light"
          }
        }
      ]
    },
    {
      "cell_type": "code",
      "source": [
        "plt.plot(test_accuracy_history);\n",
        "\n",
        "plt.xlabel('epoch number')\n",
        "plt.ylabel('accuracy')\n",
        "\n",
        "plt.show()"
      ],
      "metadata": {
        "colab": {
          "base_uri": "https://localhost:8080/",
          "height": 279
        },
        "id": "yIzINLwGNkp0",
        "outputId": "5583a4d9-6b48-423f-e0da-a88f17f53570"
      },
      "execution_count": null,
      "outputs": [
        {
          "output_type": "display_data",
          "data": {
            "text/plain": [
              "<Figure size 432x288 with 1 Axes>"
            ],
            "image/png": "[encoded data removed]"
          },
          "metadata": {
            "needs_background": "light"
          }
        }
      ]
    },
    {
      "cell_type": "markdown",
      "source": [
        "<div>\n",
        "    <h1><center>Заключение</center></h1>\n",
        "</div>\n",
        "\n",
        "1. Полносвязная нейронная сеть обучается на маленьких картинках быстрее.\n",
        "\n",
        "2. Лосс значение в полносвязной нейронной сети в основном меньше, чем в сверточной, но после 100 эпох лосс практически одинаков. При этом в сверточной нейронной сети лосс значение сошлось быстрее, чем в полносвязнной нейронной сети.\n",
        "\n",
        "3. Точность полносвязной нейронной сети в результате эксперимента оказалась меньше, что не удивительно.\n",
        "\n",
        "4. 50 эпох для сети было много, так как лосс функция и точность быстро выходили на плато.\n"
      ],
      "metadata": {
        "id": "HZWDWu2NY1P1"
      }
    }
  ],
  "metadata": {
    "colab": {
      "provenance": [],
      "authorship_tag": "ABX9TyNjnoLDOrRlW8ifIqfGaeD9",
      "include_colab_link": true
    },
    "kernelspec": {
      "display_name": "Python 3",
      "name": "python3"
    },
    "language_info": {
      "name": "python"
    }
  },
  "nbformat": 4,
  "nbformat_minor": 0
}